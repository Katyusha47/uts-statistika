{
  "nbformat": 4,
  "nbformat_minor": 0,
  "metadata": {
    "colab": {
      "provenance": [],
      "authorship_tag": "ABX9TyPx98yD3YjxE6cAy9ityae+",
      "include_colab_link": true
    },
    "kernelspec": {
      "name": "python3",
      "display_name": "Python 3"
    },
    "language_info": {
      "name": "python"
    }
  },
  "cells": [
    {
      "cell_type": "markdown",
      "metadata": {
        "id": "view-in-github",
        "colab_type": "text"
      },
      "source": [
        "<a href=\"https://colab.research.google.com/github/Katyusha47/uts-statistika/blob/main/UTS_Statistika.ipynb\" target=\"_parent\"><img src=\"https://colab.research.google.com/assets/colab-badge.svg\" alt=\"Open In Colab\"/></a>"
      ]
    },
    {
      "cell_type": "markdown",
      "source": [
        "# UTS Statistika"
      ],
      "metadata": {
        "id": "H1XJ9inmZWxZ"
      }
    },
    {
      "cell_type": "markdown",
      "source": [
        "Studi Kasus:\n",
        "Anda adalah seorang analis data di sebuah perusahaan ritel yang menjual berbagai produk teknologi. Perusahaan Anda ingin mengetahui tren penjualan untuk memperbaiki strategi pemasaran dan produksi. Anda diberi akses ke database penjualan perusahaan yang mencakup data transaksi selama dua tahun terakhir. Variabel yang tersedia:\n",
        "1.\tTanggal Transaksi\n",
        "2.\tProduk ID\n",
        "3.\tKategori Produk (Elektronik, Komputer, Aksesoris, dll.)\n",
        "4.\tHarga Satuan\n",
        "5.\tJumlah Unit Terjual\n",
        "6.\tLokasi Toko\n",
        "\n",
        "Soal:\n",
        "1.\tBuatlah data sintesis untuk setiap variabel (minimal data 50 entri)\n",
        "2.\tIdentifikasi dan klasifikasikan atribut data yang termasuk dalam tipe data kualitatif dan kuantitatif\n",
        "3.\tJelaskan pentingnya membedakan anatara data populasi dan data sample dalam konteks analisis data.\n",
        "4.\tHitunglah ukuran pemusatan (rata-rata, median) dan ukuran penyebaran (variansi, standar deviasi) untuk data harga satuan dan jumlah unit terjual.\n",
        "5.\tBuatlah box plot untuk visualisasi distribusi harga satuan per kategori produk\n",
        "6.\tPilihlah metode sampling yang paling sesuai untuk memperkirakan penjualan bulanan dan jelaskan alasan pemilihan metode tersebut\n",
        "7.\tBerdasarkan sampel yang Anda ambil, estimasikan rata-rata penjualan bulanan per kategori produk menggunakan interval kepercayaan 95%.\n",
        "8.\tDiskusikan bagaimana konsep big data bisa diintegrasikan dalam analisis ini untuk mendapatkan wawasan yang lebih mendalam.\n",
        "9.\tBerikan contoh hipotetis bagaimana analisis big data dapat membantu mengidentifikasi tren penjualan yang tidak terlihat hanya dari analisis sampel.\n",
        "\n"
      ],
      "metadata": {
        "id": "0ywgQLS1ZX5n"
      }
    }
  ]
}